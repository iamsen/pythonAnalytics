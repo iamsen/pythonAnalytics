{
 "cells": [
  {
   "cell_type": "code",
   "execution_count": null,
   "metadata": {
    "collapsed": true
   },
   "outputs": [],
   "source": [
    "from collections import defaultdict\n",
    "import json\n",
    "\n",
    "import numpy as np\n",
    "import scipy as sp\n",
    "import matplotlib.pyplot as plt\n",
    "import pandas as pd\n",
    "\n",
    "from matplotlib import rcParams\n",
    "import matplotlib.cm as cm\n",
    "import matplotlib as mpl\n",
    "\n",
    "#colorbrewer2 Dark2 qualitative color table\n",
    "dark2_colors = [(0.10588235294117647, 0.6196078431372549, 0.4666666666666667),\n",
    "                (0.8509803921568627, 0.37254901960784315, 0.00784313725490196),\n",
    "                (0.4588235294117647, 0.4392156862745098, 0.7019607843137254),\n",
    "                (0.9058823529411765, 0.1607843137254902, 0.5411764705882353),\n",
    "                (0.4, 0.6509803921568628, 0.11764705882352941),\n",
    "                (0.9019607843137255, 0.6705882352941176, 0.00784313725490196),\n",
    "                (0.6509803921568628, 0.4627450980392157, 0.11372549019607843)]\n",
    "\n",
    "rcParams['figure.figsize'] = (10, 6)\n",
    "rcParams['figure.dpi'] = 150\n",
    "rcParams['axes.color_cycle'] = dark2_colors\n",
    "rcParams['lines.linewidth'] = 2\n",
    "rcParams['axes.facecolor'] = 'white'\n",
    "rcParams['font.size'] = 14\n",
    "rcParams['patch.edgecolor'] = 'white'\n",
    "rcParams['patch.facecolor'] = dark2_colors[0]\n",
    "rcParams['font.family'] = 'StixGeneral'\n",
    "\n",
    "\n",
    "def remove_border(axes=None, top=False, right=False, left=True, bottom=True):\n",
    "    \"\"\"\n",
    "    Minimize chartjunk by stripping out unnecesasry plot borders and axis ticks\n",
    "    \n",
    "    The top/right/left/bottom keywords toggle whether the corresponding plot border is drawn\n",
    "    \"\"\"\n",
    "    ax = axes or plt.gca()\n",
    "    ax.spines['top'].set_visible(top)\n",
    "    ax.spines['right'].set_visible(right)\n",
    "    ax.spines['left'].set_visible(left)\n",
    "    ax.spines['bottom'].set_visible(bottom)\n",
    "    \n",
    "    #turn off all ticks\n",
    "    ax.yaxis.set_ticks_position('none')\n",
    "    ax.xaxis.set_ticks_position('none')\n",
    "    \n",
    "    #now re-enable visibles\n",
    "    if top:\n",
    "        ax.xaxis.tick_top()\n",
    "    if bottom:\n",
    "        ax.xaxis.tick_bottom()\n",
    "    if left:\n",
    "        ax.yaxis.tick_left()\n",
    "    if right:\n",
    "        ax.yaxis.tick_right()\n",
    "        \n",
    "pd.set_option('display.width', 500)\n",
    "pd.set_option('display.max_columns', 100)\n"
   ]
  },
  {
   "cell_type": "code",
   "execution_count": null,
   "metadata": {
    "collapsed": true
   },
   "outputs": [],
   "source": [
    "user_token = '6a516d33-786e-443c-b6e9-def654f88098'\n",
    "user_secret = 'c03c49da-9dae-4b05-a2af-82e40426439f'\n",
    "\n",
    "api_key = 'xpsswsigqw4r'\n",
    "secret_key = 'aIRpJHhA8JHTRsyb'"
   ]
  },
  {
   "cell_type": "code",
   "execution_count": null,
   "metadata": {
    "collapsed": true
   },
   "outputs": [],
   "source": [
    "import oauth2 as oauth\n",
    "import urlparse\n",
    "        \n",
    "def request_token(consumer):\n",
    "    client = oauth.Client(consumer)\n",
    "    request_token_url = 'https://api.linkedin.com/uas/oauth/requestToken?scope=r_network'\n",
    "    resp, content = client.request(request_token_url, \"POST\")\n",
    "    if resp['status'] != '200':\n",
    "        raise Exception(\"Invalid response %s.\" % resp['status'])\n",
    "    request_token = dict(urlparse.parse_qsl(content))\n",
    "    return request_token\n",
    "\n",
    "#consumer = oauth.Consumer(api_key, secret_key)\n",
    "#r_token = request_token(consumer)\n",
    "#print \"Request Token: oauth_token: %s, oauth_token_secret: %s\" % (r_token['oauth_token'], r_token['oauth_token_secret'])"
   ]
  },
  {
   "cell_type": "code",
   "execution_count": null,
   "metadata": {
    "collapsed": true
   },
   "outputs": [],
   "source": [
    "def authorize(request_token):\n",
    "    authorize_url ='https://api.linkedin.com/uas/oauth/authorize'\n",
    "    print \"Go to the following link in your browser:\"\n",
    "    print \"%s?oauth_token=%s\" % (authorize_url, request_token['oauth_token'])\n",
    "    print\n",
    "    accepted = 'n'\n",
    "    while accepted.lower() == 'n':\n",
    "        accepted = raw_input('Have you authorized me? (y/n) ')\n",
    "    oauth_verifier = raw_input('What is the PIN? ')\n",
    "    return oauth_verifier\n",
    "  \n",
    "#oauth_verifier = authorize(r_token)"
   ]
  },
  {
   "cell_type": "code",
   "execution_count": null,
   "metadata": {
    "collapsed": true
   },
   "outputs": [],
   "source": [
    "def access(consumer, request_token, oauth_verifier):\n",
    "    access_token_url = 'https://api.linkedin.com/uas/oauth/accessToken'\n",
    "    token = oauth.Token(request_token['oauth_token'], request_token['oauth_token_secret'])\n",
    "    token.set_verifier(oauth_verifier)\n",
    "    client = oauth.Client(consumer, token)\n",
    "    resp, content = client.request(access_token_url, \"POST\")\n",
    "    access_token = dict(urlparse.parse_qsl(content))\n",
    "    return access_token\n",
    "          \n",
    "#a_token = access(consumer, r_token, oauth_verifier)\n",
    "#print a_token\n",
    "#print \"Access Token: oauth_token = %s, oauth_token_secret = %s\" % (a_token['oauth_token'], a_token['oauth_token_secret'])\n",
    "#print \"You may now access protected resources using the access tokens above.\""
   ]
  },
  {
   "cell_type": "code",
   "execution_count": null,
   "metadata": {
    "collapsed": false
   },
   "outputs": [],
   "source": [
    "consumer = oauth.Consumer(api_key, secret_key)\n",
    "\n",
    "r_token = request_token(consumer)\n",
    "print \"Request Token: oauth_token: %s, oauth_token_secret: %s\" % (r_token['oauth_token'], r_token['oauth_token_secret'])\n",
    "\n",
    "oauth_verifier = authorize(r_token)\n",
    "\n",
    "a_token = access(consumer, r_token, oauth_verifier)\n",
    "print a_token\n",
    "print \"Access Token: oauth_token = %s, oauth_token_secret = %s\" % (a_token['oauth_token'], a_token['oauth_token_secret'])\n",
    "print \"You may now access protected resources using the access tokens above.\""
   ]
  },
  {
   "cell_type": "markdown",
   "metadata": {},
   "source": [
    "Get data, clean it and store to disk"
   ]
  },
  {
   "cell_type": "code",
   "execution_count": null,
   "metadata": {
    "collapsed": true
   },
   "outputs": [],
   "source": [
    "import simplejson\n",
    "import codecs\n",
    " \n",
    "output_file = 'linkedIn_links.csv'\n",
    "my_name = 'Your Name'\n",
    " \n",
    "def linkedin_connections():\n",
    "    # Use your credentials to build the oauth client\n",
    "    consumer = oauth.Consumer(key=api_key, secret=secret_key)\n",
    "    token = oauth.Token(key=a_token['oauth_token'], secret=a_token['oauth_token_secret'])\n",
    "    client = oauth.Client(consumer, token)\n",
    "    \n",
    "    # Fetch first degree connections\n",
    "    resp, content = client.request('http://api.linkedin.com/v1/people/~/connections?format=json')\n",
    "    results = simplejson.loads(content)\n",
    "    \n",
    "    # File that will store the results\n",
    "    output = codecs.open(output_file, 'w', 'utf-8')\n",
    "    \n",
    "    # Loop through the 1st degree connection and see how they connect to each other\n",
    "    for result in results[\"values\"]:\n",
    "        con = \"%s %s\" % (result[\"firstName\"].replace(\",\", \" \"), result[\"lastName\"].replace(\",\", \" \"))\n",
    "        print >>output, \"%s,%s\" % (my_name, con)\n",
    "        # This is the trick, use the search API to get related connections\n",
    "        u = \"https://api.linkedin.com/v1/people/%s:(relation-to-viewer:(related-connections))?format=json\" % result[\"id\"]\n",
    "        resp, content = client.request(u)\n",
    "        rels = simplejson.loads(content)\n",
    "        try:\n",
    "            for rel in rels['relationToViewer']['relatedConnections']['values']:\n",
    "                sec = \"%s %s\" % (rel[\"firstName\"].replace(\",\", \" \"), rel[\"lastName\"].replace(\",\", \" \"))\n",
    "                print >>output, \"%s,%s\" % (con, sec)\n",
    "        except:\n",
    "            pass\n",
    "\n",
    "linkedin_connections()"
   ]
  },
  {
   "cell_type": "code",
   "execution_count": null,
   "metadata": {
    "collapsed": true
   },
   "outputs": [],
   "source": [
    "from operator import itemgetter\n",
    "from unidecode import unidecode\n",
    " \n",
    "clean_output_file = 'linkedIn_links_clean.csv'\n",
    " \n",
    "def stringify(chain):\n",
    "    # Simple utility to build the nodes labels\n",
    "    allowed = '0123456789abcdefghijklmnopqrstuvwxyz_'\n",
    "    c = unidecode(chain.strip().lower().replace(' ', '_'))\n",
    "    return ''.join([letter for letter in c if letter in allowed])\n",
    " \n",
    " \n",
    "def clean(f_input, f_output):\n",
    "    output = open(f_output, 'w')\n",
    "    # Store the edges inside a set for dedup\n",
    "    edges = set()\n",
    "    for line in codecs.open(f_input, 'r', 'utf-8'):\n",
    "        from_person, to_person = line.strip().split(',')\n",
    "        _f = stringify(from_person)\n",
    "        _t = stringify(to_person)\n",
    "        # Reorder the edge tuple\n",
    "        _e = tuple(sorted((_f, _t), key=itemgetter(0, 1)))\n",
    "        edges.add(_e)\n",
    "    for edge in edges:\n",
    "        print >>output, '%s,%s' % (edge[0], edge[1])\n",
    " \n",
    "clean(output_file, clean_output_file)"
   ]
  },
  {
   "cell_type": "code",
   "execution_count": null,
   "metadata": {
    "collapsed": true
   },
   "outputs": [],
   "source": []
  }
 ],
 "metadata": {
  "kernelspec": {
   "display_name": "Python 2",
   "language": "python",
   "name": "python2"
  },
  "language_info": {
   "codemirror_mode": {
    "name": "ipython",
    "version": 2
   },
   "file_extension": ".py",
   "mimetype": "text/x-python",
   "name": "python",
   "nbconvert_exporter": "python",
   "pygments_lexer": "ipython2",
   "version": "2.7.10"
  }
 },
 "nbformat": 4,
 "nbformat_minor": 0
}
