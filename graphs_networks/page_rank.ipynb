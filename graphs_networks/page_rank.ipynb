{
 "cells": [
  {
   "cell_type": "markdown",
   "metadata": {},
   "source": [
    "The largest eigen vector of a stochastic matrix"
   ]
  },
  {
   "cell_type": "code",
   "execution_count": 1,
   "metadata": {
    "collapsed": false
   },
   "outputs": [
    {
     "name": "stdout",
     "output_type": "stream",
     "text": [
      "[('your_name', 0.06708936740281303), ('marc_streit', 0.027623669072077136), ('joaquim_jorge', 0.024861691383864654), ('daniel_wagner', 0.017359336412605456), ('raghu_machiraju', 0.016577461872446186), ('hanspeter_pfister', 0.015788926933634907), ('lukas_gruber', 0.015780668882535095), ('dieter_schmalstieg', 0.01538867360176131), ('silvia_miksch', 0.014603463676250525), ('nils_gehlenborg', 0.014209074397919734)]\n"
     ]
    }
   ],
   "source": [
    "import csv\n",
    "from collections import defaultdict\n",
    "\n",
    "pairlist=[]\n",
    "connections=defaultdict(list)\n",
    "userset=set()\n",
    "\n",
    "with open('linkedin_lex.csv', 'rb') as csvfile:\n",
    "    allrows = csv.reader(csvfile, delimiter=',')\n",
    "    for row in allrows:\n",
    "#        if ((row[0]=='your_name') | (row[1]=='your_name')): continue   # exclude yourself ?\n",
    "        pairlist.append((row[0], row[1]))\n",
    "        connections[row[0]].append(row[1])\n",
    "        connections[row[1]].append(row[0])\n",
    "        userset.add(row[0])\n",
    "        userset.add(row[1])\n",
    "        \n",
    "## Actual algorithm starts here        \n",
    "        \n",
    "pagerank=defaultdict(lambda:1./len(userset))  # to get normalized values (e.g., to compare with eigenvectors) = probabilities\n",
    "#pagerank=defaultdict(lambda:1.)  \n",
    "\n",
    "for iteration in xrange(0, 30):\n",
    "    newpagerank=defaultdict(lambda:0.)\n",
    "    for user in userset:\n",
    "        for connection in connections[user]:\n",
    "            newpagerank[user] += pagerank[connection]/len(connections[connection])\n",
    "    pagerank = newpagerank\n",
    "\n",
    "\n",
    "prs = sorted(pagerank.iteritems(), reverse=True, key=lambda (k,v): v)\n",
    "print prs[:10]"
   ]
  },
  {
   "cell_type": "code",
   "execution_count": 2,
   "metadata": {
    "collapsed": false
   },
   "outputs": [
    {
     "name": "stderr",
     "output_type": "stream",
     "text": [
      "/Users/sen.li/anaconda/lib/python2.7/site-packages/matplotlib/collections.py:650: FutureWarning: elementwise comparison failed; returning scalar instead, but in the future will perform elementwise comparison\n",
      "  if self._edgecolors_original != str('face'):\n",
      "/Users/sen.li/anaconda/lib/python2.7/site-packages/matplotlib/collections.py:590: FutureWarning: elementwise comparison failed; returning scalar instead, but in the future will perform elementwise comparison\n",
      "  if self._edgecolors == str('face'):\n"
     ]
    }
   ],
   "source": [
    "import networkx as nx\n",
    "import matplotlib.pyplot as plt\n",
    "import matplotlib\n",
    "import math\n",
    "\n",
    "g = nx.Graph()\n",
    "\n",
    "remove_me = False\n",
    "\n",
    "for user in userset:\n",
    "    if remove_me & (user=='your_name'): continue\n",
    "    g.add_node(user)\n",
    " \n",
    "for user in userset:   \n",
    "    if remove_me & (user=='your_name'): continue\n",
    "    nconnec = 0\n",
    "    for connection in connections[user]:\n",
    "        if remove_me & (connection=='your_name'): continue\n",
    "        g.add_edge(user, connection, weight = 1)\n",
    "        nconnec+=1\n",
    "    if remove_me & (nconnec==0):\n",
    "        g.remove_node(user)\n",
    "    \n",
    "        \n",
    "pagerank_nx = nx.pagerank_scipy(g)        \n",
    "        \n",
    "color = [(min(pagerank_nx[n]*30.,1),min(pagerank_nx[n]*30.,1), min(pagerank_nx[n]*30.,1)) for n in pagerank_nx]\n",
    "pos = nx.spring_layout(g,  iterations=100)\n",
    "nx.draw_networkx_edges(g, pos, width=1, alpha=0.4)\n",
    "nx.draw_networkx_nodes(g, pos, node_color=color, node_size=100, alpha=1, linewidths =0.5)\n",
    "#lbls = nx.draw_networkx_labels(g, pos) \n",
    "\n",
    "plt.show()"
   ]
  },
  {
   "cell_type": "code",
   "execution_count": 3,
   "metadata": {
    "collapsed": false
   },
   "outputs": [
    {
     "name": "stdout",
     "output_type": "stream",
     "text": [
      "[('your_name', 0.06690176238997488), ('marc_streit', 0.025361622337392715), ('joaquim_jorge', 0.02114734605205533), ('nils_gehlenborg', 0.015273169521147954), ('raghu_machiraju', 0.014902764524823366), ('daniel_wagner', 0.014802371832301892), ('hanspeter_pfister', 0.014783200255599175), ('lukas_gruber', 0.013624181556571554), ('dieter_schmalstieg', 0.013335093882899982), ('silvia_miksch', 0.012799665300243618)]\n"
     ]
    }
   ],
   "source": [
    "# checks whether we have the same, or similar, pageranks\n",
    "sorted_pr = sorted(pagerank_nx.iteritems(), reverse=True, key=lambda (k,v): v)\n",
    "print sorted_pr[:10]"
   ]
  },
  {
   "cell_type": "code",
   "execution_count": 5,
   "metadata": {
    "collapsed": false
   },
   "outputs": [
    {
     "name": "stdout",
     "output_type": "stream",
     "text": [
      " my degree is:  170 \n",
      "\n",
      "the graph diameter is:  4 \n",
      "\n",
      "the center is:  ['your_name', 'marc_streit'] \n",
      "\n",
      "there are  2 clique communities\n",
      "\n",
      "degree:  {'joaquim_jorge': 63} \n",
      "\n"
     ]
    }
   ],
   "source": [
    "# your number of connection\n",
    "print 'my degree is: ', g.degree('your_name'), '\\n'\n",
    "\n",
    "# diameter = maximum nb of edges between 2 nodes = always 2 in this case\n",
    "print 'the graph diameter is: ',nx.diameter(g), '\\n'\n",
    "\n",
    "#center : surprising ?\n",
    "print 'the center is: ',nx.center(g), '\\n'\n",
    "\n",
    "# number  of clique communities  of 5 nodes\n",
    "print 'there are ', len(list(nx.k_clique_communities(g, 5))),'clique communities\\n'\n",
    "\n",
    "\n",
    "# most influential ?\n",
    "print 'degree: ', g.degree(sorted_pr[2]),'\\n'\n"
   ]
  },
  {
   "cell_type": "code",
   "execution_count": null,
   "metadata": {
    "collapsed": true
   },
   "outputs": [],
   "source": []
  }
 ],
 "metadata": {
  "kernelspec": {
   "display_name": "Python 2",
   "language": "python",
   "name": "python2"
  },
  "language_info": {
   "codemirror_mode": {
    "name": "ipython",
    "version": 2
   },
   "file_extension": ".py",
   "mimetype": "text/x-python",
   "name": "python",
   "nbconvert_exporter": "python",
   "pygments_lexer": "ipython2",
   "version": "2.7.10"
  }
 },
 "nbformat": 4,
 "nbformat_minor": 0
}
